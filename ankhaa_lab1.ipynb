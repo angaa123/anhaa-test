{
  "nbformat": 4,
  "nbformat_minor": 0,
  "metadata": {
    "colab": {
      "provenance": [],
      "authorship_tag": "ABX9TyN4aWJQbq6DDANmT4UqEiD5",
      "include_colab_link": true
    },
    "kernelspec": {
      "name": "python3",
      "display_name": "Python 3"
    },
    "language_info": {
      "name": "python"
    }
  },
  "cells": [
    {
      "cell_type": "markdown",
      "metadata": {
        "id": "view-in-github",
        "colab_type": "text"
      },
      "source": [
        "<a href=\"https://colab.research.google.com/github/angaa123/anhaa-test/blob/main/ankhaa_lab1.ipynb\" target=\"_parent\"><img src=\"https://colab.research.google.com/assets/colab-badge.svg\" alt=\"Open In Colab\"/></a>"
      ]
    },
    {
      "cell_type": "code",
      "source": [
        "from google.colab import drive\n",
        "drive.mount('/content/drive')"
      ],
      "metadata": {
        "colab": {
          "base_uri": "https://localhost:8080/"
        },
        "id": "kZ6UrMN0SouH",
        "outputId": "48e9b3f2-7929-4cc2-e36d-9e148d72e07b"
      },
      "execution_count": null,
      "outputs": [
        {
          "output_type": "stream",
          "name": "stdout",
          "text": [
            "Drive already mounted at /content/drive; to attempt to forcibly remount, call drive.mount(\"/content/drive\", force_remount=True).\n"
          ]
        }
      ]
    },
    {
      "cell_type": "markdown",
      "source": [
        "# bodlogo 1\n",
        "\n",
        "\n",
        "1. Өгөгдсөн хүснэгтээс нийт ялгаатай утгатай элемэнтүүдийн тоог ол."
      ],
      "metadata": {
        "id": "r7zwvkR-uZ3H"
      }
    },
    {
      "cell_type": "code",
      "source": [
        "def count_elements(table):\n",
        "    return set(table)\n",
        "table = [1, 2, 3, 4, 2, 3, 4, 5, 6, 6, 7, 7, 8, 9]\n",
        "print(count_elements(table))"
      ],
      "metadata": {
        "colab": {
          "base_uri": "https://localhost:8080/"
        },
        "id": "wPN62-nOucqM",
        "outputId": "dc1bae5f-7323-4964-8c21-3531ee17cdab"
      },
      "execution_count": null,
      "outputs": [
        {
          "output_type": "stream",
          "name": "stdout",
          "text": [
            "{1, 2, 3, 4, 5, 6, 7, 8, 9}\n"
          ]
        }
      ]
    },
    {
      "cell_type": "markdown",
      "source": [
        "# bodlogo2\n",
        "2. Өгөгдсөн өгүүлбэрийн үг бүр нь хэдэн удаа давтагдсанг ол."
      ],
      "metadata": {
        "id": "OgPmREbFuqdl"
      }
    },
    {
      "cell_type": "code",
      "source": [
        "def count_words(sentence):\n",
        "    words = sentence.split()\n",
        "    word_count = {}\n",
        "    for word in words:\n",
        "        if word in word_count:\n",
        "            word_count[word] += 1\n",
        "        else:\n",
        "            word_count[word] = 1\n",
        "    return word_count\n",
        "sentence = \"mongol hun biana daa mongol\"\n",
        "print(count_words(sentence)) "
      ],
      "metadata": {
        "colab": {
          "base_uri": "https://localhost:8080/"
        },
        "id": "GyTtrUSZQWMh",
        "outputId": "6a5c700b-2acf-4936-94ce-7188500ec06d"
      },
      "execution_count": null,
      "outputs": [
        {
          "output_type": "stream",
          "name": "stdout",
          "text": [
            "{'mongol': 2, 'hun': 1, 'biana': 1, 'daa': 1}\n"
          ]
        }
      ]
    },
    {
      "cell_type": "markdown",
      "source": [
        "#bodlogo 3\n",
        "3. Өгөгдсөн хүснэгтээс 'xyz' тэмдэгт мөрийг агуулсан тэмдэгт мөрүүдийг хэвлэ."
      ],
      "metadata": {
        "id": "qYUIrLMbweOA"
      }
    },
    {
      "cell_type": "code",
      "source": [
        "def print_strings_with_xyz(table):\n",
        "    for s in table:\n",
        "        if \"xyz\" in s:\n",
        "            print(s)\n",
        "\n",
        "# Example usage\n",
        "table = [\"abc\", \"def\", \"xyz\", \"uvwxyz\", \"qrs\"]\n",
        "print_strings_with_xyz(table)"
      ],
      "metadata": {
        "colab": {
          "base_uri": "https://localhost:8080/"
        },
        "id": "uAukYu5UQCI_",
        "outputId": "ef9b43bc-a997-4b9f-e50c-0d828611bc81"
      },
      "execution_count": null,
      "outputs": [
        {
          "output_type": "stream",
          "name": "stdout",
          "text": [
            "xyz\n",
            "uvwxyz\n"
          ]
        }
      ]
    }
  ]
}