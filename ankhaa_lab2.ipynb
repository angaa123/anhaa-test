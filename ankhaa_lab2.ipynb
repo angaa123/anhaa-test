{
  "nbformat": 4,
  "nbformat_minor": 0,
  "metadata": {
    "colab": {
      "provenance": [],
      "authorship_tag": "ABX9TyPRApsZQZ3Quik1WhrBRho9",
      "include_colab_link": true
    },
    "kernelspec": {
      "name": "python3",
      "display_name": "Python 3"
    },
    "language_info": {
      "name": "python"
    }
  },
  "cells": [
    {
      "cell_type": "markdown",
      "metadata": {
        "id": "view-in-github",
        "colab_type": "text"
      },
      "source": [
        "<a href=\"https://colab.research.google.com/github/angaa123/anhaa-test/blob/main/ankhaa_lab2.ipynb\" target=\"_parent\"><img src=\"https://colab.research.google.com/assets/colab-badge.svg\" alt=\"Open In Colab\"/></a>"
      ]
    },
    {
      "cell_type": "code",
      "source": [
        "import requests\n",
        "import urllib.request\n",
        "from bs4 import BeautifulSoup"
      ],
      "metadata": {
        "id": "6JILcEBgxTmw"
      },
      "execution_count": 13,
      "outputs": []
    },
    {
      "cell_type": "code",
      "execution_count": 14,
      "metadata": {
        "id": "GtPVl1BWUJ3b"
      },
      "outputs": [],
      "source": [
        "\n",
        "news_list = []\n",
        "def news(keyword):\n",
        "  url = f\"https://news.mn/search/?q={keyword}\"\n",
        "  response = requests.get(url)\n",
        "  soup = BeautifulSoup(response.content, 'html.parser')\n",
        "  news_cards = soup.find_all('dev', {'class': 'gsc-webResult gsc-result\"'})\n",
        "  for dev in news_cards :\n",
        "    a = dev.find(\"a\")\n",
        "    news_url = a['href']\n",
        "    news_list.append(news_url)\n",
        "    print(news_url)"
      ]
    },
    {
      "cell_type": "code",
      "source": [
        "news(\"a\")"
      ],
      "metadata": {
        "id": "EC9Zc_tVxN74"
      },
      "execution_count": 16,
      "outputs": []
    }
  ]
}