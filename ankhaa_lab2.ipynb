{
  "nbformat": 4,
  "nbformat_minor": 0,
  "metadata": {
    "colab": {
      "provenance": [],
      "include_colab_link": true
    },
    "kernelspec": {
      "name": "python3",
      "display_name": "Python 3"
    },
    "language_info": {
      "name": "python"
    },
    "gpuClass": "standard"
  },
  "cells": [
    {
      "cell_type": "markdown",
      "metadata": {
        "id": "view-in-github",
        "colab_type": "text"
      },
      "source": [
        "<a href=\"https://colab.research.google.com/github/angaa123/anhaa-test/blob/main/ankhaa_lab2.ipynb\" target=\"_parent\"><img src=\"https://colab.research.google.com/assets/colab-badge.svg\" alt=\"Open In Colab\"/></a>"
      ]
    },
    {
      "cell_type": "markdown",
      "source": [
        "#lab2\n"
      ],
      "metadata": {
        "id": "xN-6UiCyZsI2"
      }
    },
    {
      "cell_type": "markdown",
      "source": [],
      "metadata": {
        "id": "vMQNLw9EiAK2"
      }
    },
    {
      "cell_type": "code",
      "source": [
        "#sanguud aa dudaj bn\n",
        "import requests\n",
        "import urllib.request\n",
        "from bs4 import BeautifulSoup\n",
        "import re\n"
      ],
      "metadata": {
        "id": "6JILcEBgxTmw"
      },
      "execution_count": 1,
      "outputs": []
    },
    {
      "cell_type": "code",
      "source": [
        "from google.colab import drive\n",
        "drive.mount('/content/drive')"
      ],
      "metadata": {
        "id": "tBI6bgRdNchq",
        "colab": {
          "base_uri": "https://localhost:8080/"
        },
        "outputId": "926fba0a-1c69-4351-fde7-a47df253ebfc"
      },
      "execution_count": 2,
      "outputs": [
        {
          "output_type": "stream",
          "name": "stdout",
          "text": [
            "Mounted at /content/drive\n"
          ]
        }
      ]
    },
    {
      "cell_type": "markdown",
      "source": [
        "# yamarvaa baraa  nii duriin pagedeerh buh baraa nii link iig hadaglah, shirheglen damjulah undsen code\n",
        "ene n class baidlaar hisen buguud davuu tal n olon tuliin baraand OBJ uusgen tus burdeer medelel thuglulhad duhum bolgoj ugsun"
      ],
      "metadata": {
        "id": "9hOgQj8uZ4kD"
      }
    },
    {
      "cell_type": "code",
      "source": [
        "class unegui_urls:\n",
        "  def __init__(self,page,baseurl):\n",
        "    #utag uud iig huviarlaj bn\n",
        "    self.page = page\n",
        "    self.app_list = []\n",
        "    self.baseurl = baseurl\n",
        "    url = baseurl + '?page=' + str(page+1)\n",
        "\n",
        "    response = requests.get(url)\n",
        "    if response.status_code != 200:\n",
        "      print(response.status_code)\n",
        "      print('error ',url)\n",
        "    soup = BeautifulSoup(response.text,\"html.parser\")\n",
        "    li_list = soup.find_all(\"li\", {\"class\": \"announcement-container\"})\n",
        "\n",
        "    # undsen baraanii  href tei  code iig yavuuljn bn car\n",
        "    self.i=0\n",
        "    for li in li_list:\n",
        "      a = li.find('a')\n",
        "      self.i+=1\n",
        "      self._url = 'https://www.unegui.mn'+a['href']\n",
        "      self.app_list.append(self._url)\n",
        "\n",
        "  # dotor medelel iig avah link iig neg negeer n yavuulj bn\n",
        "  def get_url(self,l):\n",
        "    return self.app_list[l-1]\n",
        "  def get_link_max(self):\n",
        "    return self.i"
      ],
      "metadata": {
        "id": "EC9Zc_tVxN74"
      },
      "execution_count": 3,
      "outputs": []
    },
    {
      "cell_type": "code",
      "source": [
        "#end link nii dotor baigaa baraa nii hemjigdhuun mun tuund baigaa hemjesiin utag iig avdag code bichne\n",
        "class unegui_product_one_by_one:\n",
        "  def __init__(self, product_url):\n",
        "    self.product_url = product_url\n",
        "    self.values = []\n",
        "    self.keys = []\n",
        "    self.price = \"\"\n",
        "\n",
        "    response = requests.get(product_url)\n",
        "    soup = BeautifulSoup(response.content, 'html.parser')\n",
        "    ul = soup.find_all('ul')\n",
        "    self.values = soup.find_all('span', {'class': 'value-chars'}) + soup.find_all('a', {'class': 'value-chars'})\n",
        "    self.keys = soup.find_all('span', {'class': 'key-chars'})\n",
        "    self.price = soup.find('div', {'class':'announcement-price__cost'}).text.strip()\n",
        "\n",
        "  def getkeys_and_values(self) :\n",
        "    a = []\n",
        "    if len(self.keys) == 0 or len(self.values) == 0:\n",
        "      return(\"No data found.\")\n",
        "    else :\n",
        "      for i in range(min(len(self.keys), len(self.values))):\n",
        "        a.append(self.keys[i].text.strip())\n",
        "        a.append(self.values[i].text.strip())\n",
        "      return(a)\n",
        "      \n",
        "  def getprice(self) :\n",
        "    return (self.price)"
      ],
      "metadata": {
        "id": "zOvTSQ0kd7_x"
      },
      "execution_count": 4,
      "outputs": []
    },
    {
      "cell_type": "markdown",
      "source": [
        "jishee bolgoj car geh OBJ uusgen anknii link iig tavihad tuhain baranii tuhain huudsiin buh handah bolomjtoi link iig for loop dotor yavuulj bn \n",
        "ingehdee aknh printlj ugsun indicator tonoos baga link yavulah n zuitei"
      ],
      "metadata": {
        "id": "elEy_plybD63"
      }
    },
    {
      "cell_type": "code",
      "source": [
        "#hereglegch uriin duraar solih heseg\n",
        "#----------------------\n",
        "max_page = 3\n",
        "search_url = \"https://www.unegui.mn/l-hdlh/l-hdlh-zarna/\"\n",
        "note = open(\"notebook.tsv\", \"w\") \n",
        "#--------------------------\n",
        "data= []\n",
        "\n",
        "\n",
        "n=1\n",
        "for n in range(max_page) :\n",
        "  print(\"########################## NEXT PAGE ################################\")\n",
        "  print(n)\n",
        "  car = unegui_urls(n,search_url)\n",
        "  print(\"niit \"+str(car.get_link_max()+1)+\" link bn\") # niit link iig harh indicator\n",
        "  car_urls = []\n",
        "\n",
        "  \n",
        "  j = 0\n",
        "  for j in range(car.get_link_max()):\n",
        "    print(\"------------next---------------\")\n",
        "    print(car.get_url(j))\n",
        "    car_urls.append(car.get_url(j))\n",
        "    ankhaa = unegui_product_one_by_one(car.get_url(j)) \n",
        "    data = ankhaa.getkeys_and_values()\n",
        "    price = ankhaa.getprice()\n",
        "    cleaned_data = []\n",
        "    clean_price = []\n",
        "\n",
        "    # data tseverlge\n",
        "    for d in data:\n",
        "      cleaned_data.append(d.replace('\\t', '').strip())\n",
        "    print(cleaned_data)\n",
        "    clean_price = price.replace('\\n','')\n",
        "    clean_price = clean_price.replace('үнэ тохирно','')\n",
        "    clean_price = clean_price.replace(' ','')\n",
        "    \n",
        "    print(clean_price)\n",
        "\n",
        "\n",
        "    car_info = {}\n",
        "    # Iterate over the list by pairs\n",
        "    for i in range(0, len(cleaned_data), 2):\n",
        "        # Add the key-value pair to the dictionary\n",
        "        key = cleaned_data[i]\n",
        "        value = cleaned_data[i+1]\n",
        "        car_info[key] = value\n",
        "    # write txt \n",
        "    note.write(car.get_url(j)+\"\\t\" )\n",
        "    note.write(clean_price+\"\\t\")\n",
        "    for key, value in car_info.items():\n",
        "      note.write(f\"{value}\\t\")\n",
        "    note.write(\"\\n\")\n",
        "  "
      ],
      "metadata": {
        "id": "4FSWYUU5ZwcM"
      },
      "execution_count": null,
      "outputs": []
    }
  ]
}